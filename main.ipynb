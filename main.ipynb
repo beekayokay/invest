{
 "nbformat": 4,
 "nbformat_minor": 2,
 "metadata": {
  "language_info": {
   "name": "python",
   "codemirror_mode": {
    "name": "ipython",
    "version": 3
   },
   "version": "3.8.1-final"
  },
  "orig_nbformat": 2,
  "file_extension": ".py",
  "mimetype": "text/x-python",
  "name": "python",
  "npconvert_exporter": "python",
  "pygments_lexer": "ipython3",
  "version": 3,
  "kernelspec": {
   "name": "python38164bitinvestconda38c6b042b37447149281f9cd5398c96a",
   "display_name": "Python 3.8.1 64-bit ('invest': conda)"
  }
 },
 "cells": [
  {
   "cell_type": "code",
   "execution_count": 1,
   "metadata": {},
   "outputs": [],
   "source": [
    "from bs4 import BeautifulSoup\n",
    "import pandas as pd\n",
    "from selenium import webdriver"
   ]
  },
  {
   "cell_type": "code",
   "execution_count": 2,
   "metadata": {},
   "outputs": [],
   "source": [
    "ticker = 'TSLA'\n",
    "url = 'https://finance.yahoo.com/quote/TSLA/'"
   ]
  },
  {
   "cell_type": "code",
   "execution_count": 3,
   "metadata": {},
   "outputs": [],
   "source": [
    "driver = webdriver.Chrome()\n",
    "driver.get(url)\n",
    "html = driver.execute_script('return document.body.innerHTML;')\n",
    "soup = BeautifulSoup(html, 'lxml')\n",
    "driver.close()"
   ]
  },
  {
   "cell_type": "code",
   "execution_count": 4,
   "metadata": {},
   "outputs": [],
   "source": [
    "columns = [\n",
    "    'ticker',\n",
    "    'PREV_CLOSE-value',\n",
    "    'OPEN-value',\n",
    "    'BID-value',\n",
    "    'ASK-value',\n",
    "    'DAYS_RANGE-value',\n",
    "    'FIFTY_TWO_WK_RANGE-value',\n",
    "    'TD_VOLUME-value',\n",
    "    'AVERAGE_VOLUME_3MONTH-value',\n",
    "    'MARKET_CAP-value',\n",
    "    'BETA_5Y-value',\n",
    "    'PE_RATIO-value',\n",
    "    'EPS_RATIO-value',\n",
    "    'EARNINGS_DATE-value',\n",
    "    'DIVIDEND_AND_YIELD-value',\n",
    "    'EX_DIVIDEND_DATE-value',\n",
    "    'ONE_YEAR_TARGET_PRICE-value'\n",
    "]\n",
    "\n",
    "dataframe = pd.DataFrame(columns=columns)"
   ]
  },
  {
   "cell_type": "code",
   "execution_count": 5,
   "metadata": {},
   "outputs": [],
   "source": [
    "non_numeric_columns = [\n",
    "    'ticker',\n",
    "    'BID-value',\n",
    "    'ASK-value',\n",
    "    'DAYS_RANGE-value',\n",
    "    'FIFTY_TWO_WK_RANGE-value',\n",
    "    'MARKET_CAP-value',\n",
    "    'EARNINGS_DATE-value',\n",
    "    'DIVIDEND_AND_YIELD-value',\n",
    "    'EX_DIVIDEND_DATE-value'\n",
    "]\n",
    "\n",
    "dataframe = pd.DataFrame(columns=columns)\n",
    "\n",
    "row = []\n",
    "\n",
    "for num, each in enumerate(columns):\n",
    "    if num == 0:\n",
    "        row.append(ticker)\n",
    "    else:\n",
    "        element = soup.find('td', {'data-test': each})\n",
    "        row.append(element.text)\n",
    "\n",
    "df_row = dict(zip(columns, row))\n",
    "\n",
    "dataframe = dataframe.append(df_row, ignore_index=True)\n",
    "\n",
    "dataframe['FIFTY_TWO_WK_RANGE-value'] = dataframe['FIFTY_TWO_WK_RANGE-value'].fillna(value=' - ')\n",
    "split_data = dataframe['FIFTY_TWO_WK_RANGE-value'].str.split(' - ', n=1, expand=True)\n",
    "dataframe['52 Week Low'] = split_data[0]\n",
    "dataframe['52 Week High'] = split_data[1]\n",
    "\n",
    "for each in range(0, len(dataframe.columns)):\n",
    "    if dataframe.iloc[:,each].name in non_numeric_columns:\n",
    "        continue\n",
    "    dataframe.iloc[:,each] = pd.to_numeric(dataframe.iloc[:,each].str.replace(',', ''), errors='coerce')"
   ]
  },
  {
   "cell_type": "code",
   "execution_count": null,
   "metadata": {},
   "outputs": [],
   "source": [
    "dataframe.to_excel('invest.xlsx')"
   ]
  }
 ]
}